{
 "cells": [
  {
   "cell_type": "code",
   "execution_count": 1,
   "metadata": {
    "collapsed": true
   },
   "outputs": [],
   "source": [
    "from ModelReport import TestReport\n",
    "\n",
    "import matplotlib.pyplot as plt\n",
    "import numpy as np\n",
    "from sklearn import datasets, linear_model, metrics\n",
    "from sklearn.model_selection import train_test_split"
   ]
  },
  {
   "cell_type": "markdown",
   "metadata": {},
   "source": [
    "# Classification Example"
   ]
  },
  {
   "cell_type": "code",
   "execution_count": 14,
   "metadata": {
    "collapsed": false
   },
   "outputs": [
    {
     "name": "stdout",
     "output_type": "stream",
     "text": [
      "Averaging scores over 5 partitions\n",
      "Creating report...\n",
      "**Report was succesfully created at Breast_Cancer_Model.pdf**\n"
     ]
    }
   ],
   "source": [
    "Title = 'Breast Cancer Classification Model'\n",
    "\n",
    "Description = 'This is my model. There are many like it, but this one is mine.My model is my best friend. It is my life. I must master it as I must master my life.Without me, my model is useless. Without my model, I am useless. I must fire my model true. I must model straighter than my data bias who is trying to sway me. I must model it before it models me. My model and I know that what counts in data science is not the hyper parameters we try, the noise in our data, nor the charts we make. We know that it is the business value that counts. My model is human, even as I, because it is my life. Thus, I will learn it as a brother. I will learn its weaknesses, its strength, its parts, its accessories, its parameters and its stability. I will keep my model clean and ready, even as I am clean and ready. We will become part of each other. Before Geoffrey Hinton, I swear this creed. My model and I are the defenders of my country. We are the masters of our data. We are the saviors of my life.'\n",
    "data_source='Sklearn-Datasets' \n",
    "contact_name = 'Shairoz Sohail'\n",
    "imputation='None'\n",
    "\n",
    "# Load the cancer classification dataset\n",
    "cancer = datasets.load_breast_cancer()\n",
    "Y = cancer.target\n",
    "X = cancer.data\n",
    "\n",
    "# Split the data into training/testing sets\n",
    "cancer_X_train,cancer_X_test,cancer_y_train,cancer_y_test = train_test_split(X, Y)\n",
    "\n",
    "# Create linear regression object\n",
    "regr = linear_model.LogisticRegression()\n",
    "\n",
    "# Train the model using the training sets\n",
    "regr.fit(cancer_X_train, cancer_y_train)\n",
    "\n",
    "# Output Report\n",
    "classification_report = TestReport(task='classification', description=Description, contact_name=contact_name,\n",
    "                                   imputation=imputation, title=Title, train_size=cancer_X_train.shape[0])\n",
    "classification_report.fit(model=regr, test_X= cancer_X_test, test_y= cancer_y_test)\n",
    "classification_report.generate_report(\"Breast_Cancer_Model.pdf\")"
   ]
  },
  {
   "cell_type": "markdown",
   "metadata": {},
   "source": [
    "# Regression Example"
   ]
  },
  {
   "cell_type": "code",
   "execution_count": 15,
   "metadata": {
    "collapsed": false
   },
   "outputs": [
    {
     "name": "stdout",
     "output_type": "stream",
     "text": [
      "Averaging scores over 5 partitions\n",
      "Creating report...\n",
      "**Report was succesfully created at Boston_Housing_Model.pdf**\n"
     ]
    }
   ],
   "source": [
    "Title = 'Boston Housing Regression Model'\n",
    "\n",
    "Description = 'This is my model. There are many like it, but this one is mine.My model is my best friend. It is my life. I must master it as I must master my life.Without me, my model is useless. Without my model, I am useless. I must fire my model true. I must model straighter than my data bias who is trying to sway me. I must model it before it models me. My model and I know that what counts in data science is not the hyper parameters we try, the noise in our data, nor the charts we make. We know that it is the business value that counts. My model is human, even as I, because it is my life. Thus, I will learn it as a brother. I will learn its weaknesses, its strength, its parts, its accessories, its parameters and its stability. I will keep my model clean and ready, even as I am clean and ready. We will become part of each other. Before Geoffrey Hinton, I swear this creed. My model and I are the defenders of my country. We are the masters of our data. We are the saviors of my life.'\n",
    "\n",
    "\n",
    "# Load the cancer classification dataset\n",
    "boston = datasets.load_boston()\n",
    "Y = boston.target\n",
    "X = boston.data\n",
    "\n",
    "# Split the data into training/testing sets\n",
    "boston_X_train,boston_X_test,boston_y_train,boston_y_test = train_test_split(X, Y)\n",
    "\n",
    "# Create linear regression object\n",
    "regr = linear_model.LinearRegression()\n",
    "\n",
    "# Train the model using the training sets\n",
    "regr.fit(boston_X_train, boston_y_train)\n",
    "\n",
    "# Output Report\n",
    "regression_report = TestReport(task='regression', description=Description, contact_name=contact_name,\n",
    "                                   imputation=imputation, title=Title, train_size=boston_X_train.shape[0])\n",
    "regression_report.fit(model=regr, test_X= boston_X_test, test_y= boston_y_test)\n",
    "regression_report.generate_report(\"Boston_Housing_Model.pdf\")"
   ]
  },
  {
   "cell_type": "code",
   "execution_count": null,
   "metadata": {
    "collapsed": true
   },
   "outputs": [],
   "source": []
  }
 ],
 "metadata": {
  "kernelspec": {
   "display_name": "Python 3",
   "language": "python",
   "name": "python3"
  },
  "language_info": {
   "codemirror_mode": {
    "name": "ipython",
    "version": 3
   },
   "file_extension": ".py",
   "mimetype": "text/x-python",
   "name": "python",
   "nbconvert_exporter": "python",
   "pygments_lexer": "ipython3",
   "version": "3.6.0"
  }
 },
 "nbformat": 4,
 "nbformat_minor": 2
}
